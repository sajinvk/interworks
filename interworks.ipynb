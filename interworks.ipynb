{
 "cells": [
  {
   "cell_type": "code",
   "execution_count": 1,
   "metadata": {},
   "outputs": [],
   "source": [
    "from pyspark.sql import SparkSession\n",
    "spark=SparkSession.builder.appName(\"interworks\").getOrCreate()"
   ]
  },
  {
   "cell_type": "code",
   "execution_count": 2,
   "metadata": {},
   "outputs": [
    {
     "name": "stdout",
     "output_type": "stream",
     "text": [
      "root\n",
      " |-- TRANSACTIONID: string (nullable = true)\n",
      " |-- FLIGHTDATE: string (nullable = true)\n",
      " |-- AIRLINECODE: string (nullable = true)\n",
      " |-- AIRLINENAME: string (nullable = true)\n",
      " |-- TAILNUM: string (nullable = true)\n",
      " |-- FLIGHTNUM: string (nullable = true)\n",
      " |-- ORIGINAIRPORTCODE: string (nullable = true)\n",
      " |-- ORIGAIRPORTNAME: string (nullable = true)\n",
      " |-- ORIGINCITYNAME: string (nullable = true)\n",
      " |-- ORIGINSTATE: string (nullable = true)\n",
      " |-- ORIGINSTATENAME: string (nullable = true)\n",
      " |-- DESTAIRPORTCODE: string (nullable = true)\n",
      " |-- DESTAIRPORTNAME: string (nullable = true)\n",
      " |-- DESTCITYNAME: string (nullable = true)\n",
      " |-- DESTSTATE: string (nullable = true)\n",
      " |-- DESTSTATENAME: string (nullable = true)\n",
      " |-- CRSDEPTIME: string (nullable = true)\n",
      " |-- DEPTIME: string (nullable = true)\n",
      " |-- DEPDELAY: string (nullable = true)\n",
      " |-- TAXIOUT: string (nullable = true)\n",
      " |-- WHEELSOFF: string (nullable = true)\n",
      " |-- WHEELSON: string (nullable = true)\n",
      " |-- TAXIIN: string (nullable = true)\n",
      " |-- CRSARRTIME: string (nullable = true)\n",
      " |-- ARRTIME: string (nullable = true)\n",
      " |-- ARRDELAY: string (nullable = true)\n",
      " |-- CRSELAPSEDTIME: string (nullable = true)\n",
      " |-- ACTUALELAPSEDTIME: string (nullable = true)\n",
      " |-- CANCELLED: string (nullable = true)\n",
      " |-- DIVERTED: string (nullable = true)\n",
      " |-- DISTANCE: string (nullable = true)\n",
      "\n"
     ]
    }
   ],
   "source": [
    "flights_df = spark.read.format(\"csv\")\\\n",
    "  .option(\"header\", \"true\")\\\n",
    "  .option(\"delimiter\",\"|\")\\\n",
    "  .option(\"encoding\", \"UTF-8\")\\\n",
    "  .load(\"flights.txt\")\n",
    "flights_df.printSchema()\n",
    "#flights_df.describe()"
   ]
  },
  {
   "cell_type": "code",
   "execution_count": 3,
   "metadata": {},
   "outputs": [
    {
     "name": "stdout",
     "output_type": "stream",
     "text": [
      "+-------------+----------+-----------+--------------------+-------+---------+-----------------+--------------------+--------------+-----------+---------------+---------------+--------------------+------------+---------+-------------+----------+-------+--------+-------+---------+--------+------+----------+-------+--------+--------------+-----------------+---------+--------+---------+\n",
      "|TRANSACTIONID|FLIGHTDATE|AIRLINECODE|         AIRLINENAME|TAILNUM|FLIGHTNUM|ORIGINAIRPORTCODE|     ORIGAIRPORTNAME|ORIGINCITYNAME|ORIGINSTATE|ORIGINSTATENAME|DESTAIRPORTCODE|     DESTAIRPORTNAME|DESTCITYNAME|DESTSTATE|DESTSTATENAME|CRSDEPTIME|DEPTIME|DEPDELAY|TAXIOUT|WHEELSOFF|WHEELSON|TAXIIN|CRSARRTIME|ARRTIME|ARRDELAY|CRSELAPSEDTIME|ACTUALELAPSEDTIME|CANCELLED|DIVERTED| DISTANCE|\n",
      "+-------------+----------+-----------+--------------------+-------+---------+-----------------+--------------------+--------------+-----------+---------------+---------------+--------------------+------------+---------+-------------+----------+-------+--------+-------+---------+--------+------+----------+-------+--------+--------------+-----------------+---------+--------+---------+\n",
      "|     54548800|  20020101|         WN|Southwest Airline...| N103@@|     1425|              ABQ|AlbuquerqueNM: Al...|   Albuquerque|         NM|     New Mexico|            DAL|DallasTX: Dallas ...|      Dallas|       TX|        Texas|      1425|   1425|       0|      8|     1433|    1648|     4|      1655|   1652|      -3|            90|               87|        F|   False|580 miles|\n",
      "+-------------+----------+-----------+--------------------+-------+---------+-----------------+--------------------+--------------+-----------+---------------+---------------+--------------------+------------+---------+-------------+----------+-------+--------+-------+---------+--------+------+----------+-------+--------+--------------+-----------------+---------+--------+---------+\n",
      "only showing top 1 row\n",
      "\n"
     ]
    }
   ],
   "source": [
    "flights_df.show(1)"
   ]
  },
  {
   "cell_type": "code",
   "execution_count": 4,
   "metadata": {
    "scrolled": true
   },
   "outputs": [
    {
     "name": "stdout",
     "output_type": "stream",
     "text": [
      "+-------------+----------+-----------+--------------------+-------+---------+-----------------+--------------------+--------------+-----------+---------------+---------------+--------------------+------------+---------+-------------+----------+-------+--------+-------+---------+--------+------+----------+-------+--------+--------------+-----------------+---------+--------+---------+------------+---+---------+-------+-------------+\n",
      "|TRANSACTIONID|FLIGHTDATE|AIRLINECODE|         AIRLINENAME|TAILNUM|FLIGHTNUM|ORIGINAIRPORTCODE|     ORIGAIRPORTNAME|ORIGINCITYNAME|ORIGINSTATE|ORIGINSTATENAME|DESTAIRPORTCODE|     DESTAIRPORTNAME|DESTCITYNAME|DESTSTATE|DESTSTATENAME|CRSDEPTIME|DEPTIME|DEPDELAY|TAXIOUT|WHEELSOFF|WHEELSON|TAXIIN|CRSARRTIME|ARRTIME|ARRDELAY|CRSELAPSEDTIME|ACTUALELAPSEDTIME|CANCELLED|DIVERTED| DISTANCE|distance_mod|bin|start_bin|end_bin|DISTANCEGROUP|\n",
      "+-------------+----------+-----------+--------------------+-------+---------+-----------------+--------------------+--------------+-----------+---------------+---------------+--------------------+------------+---------+-------------+----------+-------+--------+-------+---------+--------+------+----------+-------+--------+--------------+-----------------+---------+--------+---------+------------+---+---------+-------+-------------+\n",
      "|     54548800|  20020101|         WN|Southwest Airline...| N103@@|     1425|              ABQ|AlbuquerqueNM: Al...|   Albuquerque|         NM|     New Mexico|            DAL|DallasTX: Dallas ...|      Dallas|       TX|        Texas|      1425|   1425|       0|      8|     1433|    1648|     4|      1655|   1652|      -3|            90|               87|        F|   False|580 miles|        580 |  5|      500|    600|500-600 miles|\n",
      "+-------------+----------+-----------+--------------------+-------+---------+-----------------+--------------------+--------------+-----------+---------------+---------------+--------------------+------------+---------+-------------+----------+-------+--------+-------+---------+--------+------+----------+-------+--------+--------------+-----------------+---------+--------+---------+------------+---+---------+-------+-------------+\n",
      "only showing top 1 row\n",
      "\n"
     ]
    }
   ],
   "source": [
    "# Miles data\n",
    "flights_df.createOrReplaceTempView(\"flights\")\n",
    "miles_sql = \"select distance from flights\"\n",
    "sql = \"select count(*) from flights\"\n",
    "count = spark.sql(sql)\n",
    "#count.show()\n",
    "\n",
    "sql = \"select count(*) from flights where distance like '%miles%'\"\n",
    "count2 = spark.sql(sql)\n",
    "#count2.show()\n",
    "\n",
    "sql = \"\"\"\n",
    "select TRANSACTIONID,FLIGHTDATE,AIRLINECODE,AIRLINENAME,TAILNUM,FLIGHTNUM,ORIGINAIRPORTCODE,\n",
    "ORIGAIRPORTNAME,ORIGINCITYNAME,ORIGINSTATE,ORIGINSTATENAME,DESTAIRPORTCODE,DESTAIRPORTNAME,\n",
    "DESTCITYNAME,DESTSTATE,DESTSTATENAME,CRSDEPTIME,DEPTIME,DEPDELAY,TAXIOUT,WHEELSOFF,WHEELSON,TAXIIN,\n",
    "CRSARRTIME,ARRTIME,ARRDELAY,CRSELAPSEDTIME,ACTUALELAPSEDTIME,CANCELLED,DIVERTED,DISTANCE,\n",
    "replace(distance , 'miles' ,'') as distance_mod \n",
    "from flights \n",
    "\"\"\"\n",
    "miles = spark.sql (sql)\n",
    "#miles.show(2)\n",
    "miles.createOrReplaceTempView(\"miles\")\n",
    "\n",
    "\n",
    "sql = \"\"\"select \n",
    "TRANSACTIONID,FLIGHTDATE,AIRLINECODE,AIRLINENAME,TAILNUM,FLIGHTNUM,ORIGINAIRPORTCODE,\n",
    "ORIGAIRPORTNAME,ORIGINCITYNAME,ORIGINSTATE,ORIGINSTATENAME,DESTAIRPORTCODE,DESTAIRPORTNAME,\n",
    "DESTCITYNAME,DESTSTATE,DESTSTATENAME,CRSDEPTIME,DEPTIME,DEPDELAY,TAXIOUT,WHEELSOFF,WHEELSON,TAXIIN,\n",
    "CRSARRTIME,ARRTIME,ARRDELAY,CRSELAPSEDTIME,ACTUALELAPSEDTIME,CANCELLED,DIVERTED,DISTANCE,\n",
    "distance_mod ,\n",
    "Floor((distance_mod - 0)/100 ) as bin  , \n",
    "Floor((distance_mod - 0)/100 )*100 start_bin, \n",
    "(Floor((distance_mod - 0)/100 )+1)*100 end_bin,\n",
    "concat(Floor((distance_mod - 0)/100 )*100 , '-',(Floor((distance_mod - 0)/100 )+1)*100, ' miles') DISTANCEGROUP\n",
    "from miles \n",
    "\n",
    "\"\"\"\n",
    "dg_miles = spark.sql (sql)\n",
    "dg_miles.show(1)"
   ]
  },
  {
   "cell_type": "code",
   "execution_count": 5,
   "metadata": {},
   "outputs": [
    {
     "name": "stdout",
     "output_type": "stream",
     "text": [
      "+-------------+----------+-----------+--------------------+-------+---------+-----------------+--------------------+--------------+-----------+---------------+---------------+--------------------+------------+---------+-------------+----------+-------+-------+---------+--------+------+----------+-------+--------+--------------+-----------------+---------+--------+---------+------------+---+---------+-------+-------------+--------+------------+\n",
      "|TRANSACTIONID|FLIGHTDATE|AIRLINECODE|         AIRLINENAME|TAILNUM|FLIGHTNUM|ORIGINAIRPORTCODE|     ORIGAIRPORTNAME|ORIGINCITYNAME|ORIGINSTATE|ORIGINSTATENAME|DESTAIRPORTCODE|     DESTAIRPORTNAME|DESTCITYNAME|DESTSTATE|DESTSTATENAME|CRSDEPTIME|DEPTIME|TAXIOUT|WHEELSOFF|WHEELSON|TAXIIN|CRSARRTIME|ARRTIME|ARRDELAY|CRSELAPSEDTIME|ACTUALELAPSEDTIME|CANCELLED|DIVERTED| DISTANCE|distance_mod|bin|start_bin|end_bin|DISTANCEGROUP|DEPDELAY|DEPDELAYGT15|\n",
      "+-------------+----------+-----------+--------------------+-------+---------+-----------------+--------------------+--------------+-----------+---------------+---------------+--------------------+------------+---------+-------------+----------+-------+-------+---------+--------+------+----------+-------+--------+--------------+-----------------+---------+--------+---------+------------+---+---------+-------+-------------+--------+------------+\n",
      "|     54548800|  20020101|         WN|Southwest Airline...| N103@@|     1425|              ABQ|AlbuquerqueNM: Al...|   Albuquerque|         NM|     New Mexico|            DAL|DallasTX: Dallas ...|      Dallas|       TX|        Texas|      1425|   1425|      8|     1433|    1648|     4|      1655|   1652|      -3|            90|               87|        F|   False|580 miles|        580 |  5|      500|    600|500-600 miles|       0|           0|\n",
      "|     55872300|  20020101|         CO|Continental Air L...| N83872|      150|              ABQ|AlbuquerqueNM: Al...|   Albuquerque|         NM|     New Mexico|            IAH|HoustonTX: George...|     Houston|       TX|        Texas|      1130|   1136|     12|     1148|    1419|    16|      1426|   1435|       9|           116|              119|    False|       F|744 miles|        744 |  7|      700|    800|700-800 miles|       6|           0|\n",
      "+-------------+----------+-----------+--------------------+-------+---------+-----------------+--------------------+--------------+-----------+---------------+---------------+--------------------+------------+---------+-------------+----------+-------+-------+---------+--------+------+----------+-------+--------+--------------+-----------------+---------+--------+---------+------------+---+---------+-------+-------------+--------+------------+\n",
      "only showing top 2 rows\n",
      "\n"
     ]
    }
   ],
   "source": [
    "dg_miles.createOrReplaceTempView(\"dg_miles\")\n",
    "\n",
    "sql = \"\"\"\n",
    "select \n",
    "TRANSACTIONID,FLIGHTDATE,AIRLINECODE,AIRLINENAME,TAILNUM,FLIGHTNUM,ORIGINAIRPORTCODE,\n",
    "ORIGAIRPORTNAME,ORIGINCITYNAME,ORIGINSTATE,ORIGINSTATENAME,DESTAIRPORTCODE,DESTAIRPORTNAME,\n",
    "DESTCITYNAME,DESTSTATE,DESTSTATENAME,CRSDEPTIME,DEPTIME,TAXIOUT,WHEELSOFF,WHEELSON,TAXIIN,\n",
    "CRSARRTIME,ARRTIME,ARRDELAY,CRSELAPSEDTIME,ACTUALELAPSEDTIME,CANCELLED,DIVERTED,DISTANCE,\n",
    "distance_mod ,\n",
    "bin,start_bin,end_bin,DISTANCEGROUP,\n",
    "DEPDELAY ,\n",
    "case \n",
    "  WHEN DEPDELAY > 15 THEN 1 \n",
    "  ELSE 0 \n",
    "END as DEPDELAYGT15   \n",
    "from dg_miles\n",
    "\"\"\"\n",
    "delay_miles = spark.sql (sql)\n",
    "delay_miles.show(2)\n",
    "\n",
    "\n",
    "# Negative values in Departure delay . Assumption : Flight left early.\n",
    "# Action taken : None "
   ]
  },
  {
   "cell_type": "code",
   "execution_count": 6,
   "metadata": {},
   "outputs": [
    {
     "name": "stdout",
     "output_type": "stream",
     "text": [
      "+-------------+-----------+--------------------+-------+---------+-----------------+--------------------+--------------+-----------+---------------+---------------+--------------------+------------+---------+-------------+----------+--------+-------+---------+--------+------+----------+--------+--------------+-----------------+---------+--------+---------+------------+---+---------+-------+-------------+------------+----------+-------+-------+----------+\n",
      "|TRANSACTIONID|AIRLINECODE|         AIRLINENAME|TAILNUM|FLIGHTNUM|ORIGINAIRPORTCODE|     ORIGAIRPORTNAME|ORIGINCITYNAME|ORIGINSTATE|ORIGINSTATENAME|DESTAIRPORTCODE|     DESTAIRPORTNAME|DESTCITYNAME|DESTSTATE|DESTSTATENAME|CRSDEPTIME|DEPDELAY|TAXIOUT|WHEELSOFF|WHEELSON|TAXIIN|CRSARRTIME|ARRDELAY|CRSELAPSEDTIME|ACTUALELAPSEDTIME|CANCELLED|DIVERTED| DISTANCE|distance_mod|bin|start_bin|end_bin|DISTANCEGROUP|DEPDELAYGT15|FLIGHTDATE|DEPTIME|ARRTIME|NEXTDAYARR|\n",
      "+-------------+-----------+--------------------+-------+---------+-----------------+--------------------+--------------+-----------+---------------+---------------+--------------------+------------+---------+-------------+----------+--------+-------+---------+--------+------+----------+--------+--------------+-----------------+---------+--------+---------+------------+---+---------+-------+-------------+------------+----------+-------+-------+----------+\n",
      "|     54548800|         WN|Southwest Airline...| N103@@|     1425|              ABQ|AlbuquerqueNM: Al...|   Albuquerque|         NM|     New Mexico|            DAL|DallasTX: Dallas ...|      Dallas|       TX|        Texas|      1425|       0|      8|     1433|    1648|     4|      1655|      -3|            90|               87|        F|   False|580 miles|        580 |  5|      500|    600|500-600 miles|           0|2002-01-01|  14:25|  16:52|         0|\n",
      "|     55872300|         CO|Continental Air L...| N83872|      150|              ABQ|AlbuquerqueNM: Al...|   Albuquerque|         NM|     New Mexico|            IAH|HoustonTX: George...|     Houston|       TX|        Texas|      1130|       6|     12|     1148|    1419|    16|      1426|       9|           116|              119|    False|       F|744 miles|        744 |  7|      700|    800|700-800 miles|           0|2002-01-01|  11:36|  14:35|         0|\n",
      "+-------------+-----------+--------------------+-------+---------+-----------------+--------------------+--------------+-----------+---------------+---------------+--------------------+------------+---------+-------------+----------+--------+-------+---------+--------+------+----------+--------+--------------+-----------------+---------+--------+---------+------------+---+---------+-------+-------------+------------+----------+-------+-------+----------+\n",
      "only showing top 2 rows\n",
      "\n"
     ]
    },
    {
     "data": {
      "text/plain": [
       "30366"
      ]
     },
     "execution_count": 6,
     "metadata": {},
     "output_type": "execute_result"
    }
   ],
   "source": [
    "from pyspark.sql.functions import min, max\n",
    "delay_miles.createOrReplaceTempView(\"delay_miles\")\n",
    "\n",
    "df = spark.sql(sql)\n",
    "\n",
    "\n",
    "\n",
    "sql = \"\"\"\n",
    "select\n",
    "TRANSACTIONID,AIRLINECODE,AIRLINENAME,TAILNUM,FLIGHTNUM,ORIGINAIRPORTCODE,\n",
    "ORIGAIRPORTNAME,ORIGINCITYNAME,ORIGINSTATE,ORIGINSTATENAME,DESTAIRPORTCODE,DESTAIRPORTNAME,\n",
    "DESTCITYNAME,DESTSTATE,DESTSTATENAME,CRSDEPTIME,DEPDELAY,TAXIOUT,WHEELSOFF,WHEELSON,TAXIIN,\n",
    "CRSARRTIME,ARRDELAY,CRSELAPSEDTIME,ACTUALELAPSEDTIME,CANCELLED,DIVERTED,\n",
    "DISTANCE, distance_mod ,\n",
    "bin,start_bin,end_bin,DISTANCEGROUP,\n",
    "DEPDELAYGT15,\n",
    "to_date(FLIGHTDATE,'yyyyMMdd') FLIGHTDATE,\n",
    "\n",
    "case \n",
    "    WHEN (length(DEPTIME) = 4 ) THEN concat(left(DEPTIME,2) , ':' , right(DEPTIME,2)) \n",
    "    WHEN (length(DEPTIME) = 3 ) THEN concat('0' , left(DEPTIME,1) , ':' , right(DEPTIME,2))\n",
    "    WHEN (length(DEPTIME) = 2 ) THEN concat('00' ,  ':' , right(DEPTIME,2))\n",
    "    WHEN (length(DEPTIME) = 1 ) THEN concat('00:0' ,   right(DEPTIME,1))\n",
    "    ELSE Null \n",
    "END as DEPTIME,\n",
    "\n",
    "case \n",
    "    WHEN (length(ARRTIME) = 4 ) THEN concat(left(ARRTIME,2) , ':' , right(ARRTIME,2)) \n",
    "    WHEN (length(ARRTIME) = 3 ) THEN concat('0' , left(ARRTIME,1) , ':' , right(ARRTIME,2))\n",
    "    WHEN (length(ARRTIME) = 2 ) THEN concat('00' ,  ':' , right(ARRTIME,2))\n",
    "    WHEN (length(ARRTIME) = 1 ) THEN concat('00:0' ,   right(ARRTIME,1))\n",
    "    ELSE Null \n",
    "END as ARRTIME\n",
    "from delay_miles\n",
    "\"\"\"\n",
    "\n",
    "#sql = \"select length(ARRTIME) from delay_miles \"\n",
    "#\" WHEN (length(ARRTIME) = 4) THEN concat (left(ARRTIME,2) , ':' right(ARRTIME,2) )\"\n",
    "\n",
    "set_time = spark.sql (sql)\n",
    "#set_time.show(5)\n",
    "set_time.createOrReplaceTempView('set_time')\n",
    "\n",
    "sql = \"\"\"\n",
    "select  \n",
    "TRANSACTIONID,AIRLINECODE,AIRLINENAME,TAILNUM,FLIGHTNUM,ORIGINAIRPORTCODE,\n",
    "ORIGAIRPORTNAME,ORIGINCITYNAME,ORIGINSTATE,ORIGINSTATENAME,DESTAIRPORTCODE,DESTAIRPORTNAME,\n",
    "DESTCITYNAME,DESTSTATE,DESTSTATENAME,CRSDEPTIME,DEPDELAY,TAXIOUT,WHEELSOFF,WHEELSON,TAXIIN,\n",
    "CRSARRTIME,ARRDELAY,CRSELAPSEDTIME,ACTUALELAPSEDTIME,CANCELLED,DIVERTED,\n",
    "DISTANCE, distance_mod ,\n",
    "bin,start_bin,end_bin,DISTANCEGROUP,\n",
    "DEPDELAYGT15,\n",
    "to_date(FLIGHTDATE,'yyyyMMdd') FLIGHTDATE,\n",
    "DEPTIME,ARRTIME,\n",
    "case \n",
    "WHEN left(ARRTIME,2) < left(DEPTIME,2) Then 1  \n",
    "WHEN left(ARRTIME,2) = left(DEPTIME,2) and (RIGHT(ARRTIME,2) < RIGHT(DEPTIME,2)) Then 1 \n",
    "WHEN ARRTIME is null or DEPTIME is null Then Null \n",
    "ELSE 0  \n",
    "END as NEXTDAYARR\n",
    "from set_time\n",
    "\n",
    "\"\"\"\n",
    "\n",
    "\n",
    "\n",
    "#Assumption # no flight is > 23:59 Minutes \n",
    "# null values are kept. If ARRTIME or  DEPTIME is null NEXTDAYARR is set to null \n",
    "\n",
    "sql1 = \"\"\"\n",
    "select count(*) \n",
    "from set_time\n",
    "where ARRTIME is null \n",
    "or DEPTIME is null\n",
    "\n",
    "\"\"\"\n",
    "\n",
    "NEXTDAYARR = spark.sql (sql)\n",
    "#test1 = spark.sql (sql1)\n",
    "NEXTDAYARR.show(2)\n",
    "#test.filter(\"NEXTDAYARR = 0 \").count()\n",
    "NEXTDAYARR.filter(\"NEXTDAYARR is null \").count()\n",
    "#test.filter(\"NEXTDAYARR != 0 \").count()\n",
    "#min_date = day_check.select(max('FLIGHTDATE'))\n",
    "#min_date.head()\n",
    "#day_check = spark.sql (sql1)\n",
    "#day_check.show(2)"
   ]
  },
  {
   "cell_type": "code",
   "execution_count": 7,
   "metadata": {},
   "outputs": [],
   "source": [
    "#33822"
   ]
  },
  {
   "cell_type": "code",
   "execution_count": 8,
   "metadata": {},
   "outputs": [],
   "source": [
    "NEXTDAYARR.createOrReplaceTempView('NEXTDAYARR')"
   ]
  },
  {
   "cell_type": "code",
   "execution_count": 9,
   "metadata": {},
   "outputs": [
    {
     "name": "stdout",
     "output_type": "stream",
     "text": [
      "+-------------+----------+-----------+------------------------------+-------+---------+-----------------+------------------------------------------------+--------------+-----------+---------------+---------------+-----------------------------------------------+------------+---------+-------------+----------+-------+-------+---------+--------+------+----------+-------+--------+--------------+-----------------+---------+--------+---------+------------+---+---------+-------+-------------+--------+------------+\n",
      "|TRANSACTIONID|FLIGHTDATE|AIRLINECODE|AIRLINENAME                   |TAILNUM|FLIGHTNUM|ORIGINAIRPORTCODE|ORIGAIRPORTNAME                                 |ORIGINCITYNAME|ORIGINSTATE|ORIGINSTATENAME|DESTAIRPORTCODE|DESTAIRPORTNAME                                |DESTCITYNAME|DESTSTATE|DESTSTATENAME|CRSDEPTIME|DEPTIME|TAXIOUT|WHEELSOFF|WHEELSON|TAXIIN|CRSARRTIME|ARRTIME|ARRDELAY|CRSELAPSEDTIME|ACTUALELAPSEDTIME|CANCELLED|DIVERTED|DISTANCE |distance_mod|bin|start_bin|end_bin|DISTANCEGROUP|DEPDELAY|DEPDELAYGT15|\n",
      "+-------------+----------+-----------+------------------------------+-------+---------+-----------------+------------------------------------------------+--------------+-----------+---------------+---------------+-----------------------------------------------+------------+---------+-------------+----------+-------+-------+---------+--------+------+----------+-------+--------+--------------+-----------------+---------+--------+---------+------------+---+---------+-------+-------------+--------+------------+\n",
      "|54548800     |20020101  |WN         |Southwest Airlines Co.: WN    |N103@@ |1425     |ABQ              |AlbuquerqueNM: Albuquerque International Sunport|Albuquerque   |NM         |New Mexico     |DAL            |DallasTX: Dallas Love Field                    |Dallas      |TX       |Texas        |1425      |1425   |8      |1433     |1648    |4     |1655      |1652   |-3      |90            |87               |F        |False   |580 miles|580         |5  |500      |600    |500-600 miles|0       |0           |\n",
      "|55872300     |20020101  |CO         |Continental Air Lines Inc.: CO|N83872 |150      |ABQ              |AlbuquerqueNM: Albuquerque International Sunport|Albuquerque   |NM         |New Mexico     |IAH            |HoustonTX: George Bush Intercontinental/Houston|Houston     |TX       |Texas        |1130      |1136   |12     |1148     |1419    |16    |1426      |1435   |9       |116           |119              |False    |F       |744 miles|744         |7  |700      |800    |700-800 miles|6       |0           |\n",
      "|54388800     |20020101  |WN         |Southwest Airlines Co.: WN    |N334@@ |249      |ABQ              |AlbuquerqueNM: Albuquerque International Sunport|Albuquerque   |NM         |New Mexico     |MCI            |Kansas CityMO: Kansas City International       |Kansas City |MO       |Missouri     |1215      |1338   |7      |1345     |1618    |2     |1500      |1620   |80      |105           |102              |F        |False   |718 miles|718         |7  |700      |800    |700-800 miles|83      |1           |\n",
      "|54486500     |20020101  |WN         |Southwest Airlines Co.: WN    |N699@@ |902      |ABQ              |AlbuquerqueNM: Albuquerque International Sunport|Albuquerque   |NM         |New Mexico     |LAS            |Las VegasNV: McCarran International            |Las Vegas   |NV       |Nevada       |1925      |1925   |5      |1930     |1947    |1     |1950      |1948   |-2      |85            |83               |0        |0       |487 miles|487         |4  |400      |500    |400-500 miles|0       |0           |\n",
      "|55878700     |20020103  |CO         |Continental Air Lines Inc.: CO|N58606 |234      |ABQ              |AlbuquerqueNM: Albuquerque International Sunport|Albuquerque   |NM         |New Mexico     |IAH            |HoustonTX: George Bush Intercontinental/Houston|Houston     |TX       |Texas        |1455      |1453   |11     |1504     |1742    |5     |1750      |1747   |-3      |115           |114              |F        |False   |744 miles|744         |7  |700      |800    |700-800 miles|-2      |0           |\n",
      "+-------------+----------+-----------+------------------------------+-------+---------+-----------------+------------------------------------------------+--------------+-----------+---------------+---------------+-----------------------------------------------+------------+---------+-------------+----------+-------+-------+---------+--------+------+----------+-------+--------+--------------+-----------------+---------+--------+---------+------------+---+---------+-------+-------------+--------+------------+\n",
      "only showing top 5 rows\n",
      "\n"
     ]
    }
   ],
   "source": [
    "sql = \"\"\"\n",
    "select \n",
    "split(AIRLINENAME, \":\")[0] AIRLINENAME ,\n",
    "split(AIRLINENAME, \":\")[1] AIRLINECODE \n",
    "from NEXTDAYARR\n",
    "\"\"\"\n",
    "\n",
    "airlinename_sql = \"\"\"\n",
    "select  \n",
    "TRANSACTIONID,TAILNUM,FLIGHTNUM,ORIGINAIRPORTCODE,\n",
    "ORIGAIRPORTNAME,ORIGINCITYNAME,ORIGINSTATE,ORIGINSTATENAME,DESTAIRPORTCODE,DESTAIRPORTNAME,\n",
    "DESTCITYNAME,DESTSTATE,DESTSTATENAME,CRSDEPTIME,DEPDELAY,TAXIOUT,WHEELSOFF,WHEELSON,TAXIIN,\n",
    "CRSARRTIME,ARRDELAY,CRSELAPSEDTIME,ACTUALELAPSEDTIME,CANCELLED,DIVERTED,\n",
    "DISTANCE, distance_mod ,\n",
    "bin,start_bin,end_bin,DISTANCEGROUP,\n",
    "DEPDELAYGT15,\n",
    "to_date(FLIGHTDATE,'yyyyMMdd') FLIGHTDATE,\n",
    "DEPTIME,ARRTIME,NEXTDAYARR,\n",
    "split(AIRLINENAME, \":\")[0] AIRLINENAME , split(AIRLINENAME, \":\")[1] AIRLINECODE \n",
    "from \n",
    "NEXTDAYARR\n",
    "\"\"\"\n",
    "\n",
    "airlinename = spark.sql(airlinename_sql)\n",
    "df.show(5, False)"
   ]
  },
  {
   "cell_type": "code",
   "execution_count": 10,
   "metadata": {},
   "outputs": [
    {
     "name": "stdout",
     "output_type": "stream",
     "text": [
      "+-------------+-------+---------+-----------------+--------------+-----------+---------------+---------------+------------+---------+-------------+----------+--------+-------+---------+--------+------+----------+--------+--------------+-----------------+---------+---------+------------+---+---------+-------+-------------+------------+----------+-------+-------+----------+-----------+--------------------+-------------+--------------------+-------------+---------------+--------+\n",
      "|TRANSACTIONID|TAILNUM|FLIGHTNUM|ORIGINAIRPORTCODE|ORIGINCITYNAME|ORIGINSTATE|ORIGINSTATENAME|DESTAIRPORTCODE|DESTCITYNAME|DESTSTATE|DESTSTATENAME|CRSDEPTIME|DEPDELAY|TAXIOUT|WHEELSOFF|WHEELSON|TAXIIN|CRSARRTIME|ARRDELAY|CRSELAPSEDTIME|ACTUALELAPSEDTIME|CANCELLED| DISTANCE|distance_mod|bin|start_bin|end_bin|DISTANCEGROUP|DEPDELAYGT15|FLIGHTDATE|DEPTIME|ARRTIME|NEXTDAYARR|AIRLINECODE|         AIRLINENAME|OrigCITYSTATE|     ORIGAIRPORTNAME|destCITYSTATE|DESTAIRPORTNAME|Diverted|\n",
      "+-------------+-------+---------+-----------------+--------------+-----------+---------------+---------------+------------+---------+-------------+----------+--------+-------+---------+--------+------+----------+--------+--------------+-----------------+---------+---------+------------+---+---------+-------+-------------+------------+----------+-------+-------+----------+-----------+--------------------+-------------+--------------------+-------------+---------------+--------+\n",
      "|     54548800| N103@@|     1425|              ABQ|   Albuquerque|         NM|     New Mexico|            DAL|      Dallas|       TX|        Texas|      1425|       0|      8|     1433|    1648|     4|      1655|      -3|            90|               87|        F|580 miles|        580 |  5|      500|    600|500-600 miles|           0|2002-01-01|  14:25|  16:52|         0|         WN|Southwest Airline...|AlbuquerqueNM| Albuquerque Inte...|     DallasTX|       DallasTX|   False|\n",
      "|     55872300| N83872|      150|              ABQ|   Albuquerque|         NM|     New Mexico|            IAH|     Houston|       TX|        Texas|      1130|       6|     12|     1148|    1419|    16|      1426|       9|           116|              119|    False|744 miles|        744 |  7|      700|    800|700-800 miles|           0|2002-01-01|  11:36|  14:35|         0|         CO|Continental Air L...|AlbuquerqueNM| Albuquerque Inte...|    HoustonTX|      HoustonTX|   False|\n",
      "|     54388800| N334@@|      249|              ABQ|   Albuquerque|         NM|     New Mexico|            MCI| Kansas City|       MO|     Missouri|      1215|      83|      7|     1345|    1618|     2|      1500|      80|           105|              102|        F|718 miles|        718 |  7|      700|    800|700-800 miles|           1|2002-01-01|  13:38|  16:20|         0|         WN|Southwest Airline...|AlbuquerqueNM| Albuquerque Inte...|Kansas CityMO|  Kansas CityMO|   False|\n",
      "|     54486500| N699@@|      902|              ABQ|   Albuquerque|         NM|     New Mexico|            LAS|   Las Vegas|       NV|       Nevada|      1925|       0|      5|     1930|    1947|     1|      1950|      -2|            85|               83|        0|487 miles|        487 |  4|      400|    500|400-500 miles|           0|2002-01-01|  19:25|  19:48|         0|         WN|Southwest Airline...|AlbuquerqueNM| Albuquerque Inte...|  Las VegasNV|    Las VegasNV|   False|\n",
      "|     55878700| N58606|      234|              ABQ|   Albuquerque|         NM|     New Mexico|            IAH|     Houston|       TX|        Texas|      1455|      -2|     11|     1504|    1742|     5|      1750|      -3|           115|              114|        F|744 miles|        744 |  7|      700|    800|700-800 miles|           0|2002-01-03|  14:53|  17:47|         0|         CO|Continental Air L...|AlbuquerqueNM| Albuquerque Inte...|    HoustonTX|      HoustonTX|   False|\n",
      "+-------------+-------+---------+-----------------+--------------+-----------+---------------+---------------+------------+---------+-------------+----------+--------+-------+---------+--------+------+----------+--------+--------------+-----------------+---------+---------+------------+---+---------+-------+-------------+------------+----------+-------+-------+----------+-----------+--------------------+-------------+--------------------+-------------+---------------+--------+\n",
      "only showing top 5 rows\n",
      "\n",
      "1191805\n",
      "991681\n"
     ]
    }
   ],
   "source": [
    "airlinename.createOrReplaceTempView(\"airlinename\")\n",
    "\n",
    "orig_dest_cleanupsql = \"\"\"\n",
    "select  \n",
    "TRANSACTIONID,TAILNUM,FLIGHTNUM,ORIGINAIRPORTCODE,\n",
    "ORIGINCITYNAME,ORIGINSTATE,ORIGINSTATENAME,DESTAIRPORTCODE,\n",
    "DESTCITYNAME,DESTSTATE,DESTSTATENAME,CRSDEPTIME,DEPDELAY,TAXIOUT,WHEELSOFF,WHEELSON,TAXIIN,\n",
    "CRSARRTIME,ARRDELAY,CRSELAPSEDTIME,ACTUALELAPSEDTIME,CANCELLED,\n",
    "DISTANCE, distance_mod ,\n",
    "bin,start_bin,end_bin,DISTANCEGROUP,\n",
    "DEPDELAYGT15,\n",
    "to_date(FLIGHTDATE,'yyyyMMdd') FLIGHTDATE,\n",
    "DEPTIME,ARRTIME,NEXTDAYARR,\n",
    "AIRLINECODE,\n",
    "AIRLINENAME,\n",
    "split(ORIGAIRPORTNAME, \":\")[0] OrigCITYSTATE,\n",
    "split(ORIGAIRPORTNAME, \":\")[1] ORIGAIRPORTNAME,\n",
    "split(DESTAIRPORTNAME, \":\")[0] destCITYSTATE,\n",
    "split(DESTAIRPORTNAME, \":\")[0] DESTAIRPORTNAME,\n",
    "case \n",
    " WHEN DIVERTED = 1 or DIVERTED = \"T\" or DIVERTED = \"True\" Then \"True\"\n",
    " WHEN DIVERTED = 0 or DIVERTED = \"F\" or DIVERTED = \"False\" Then \"False\"\n",
    " Else Null \n",
    "END as Diverted  \n",
    " \n",
    "from airlinename\n",
    "\n",
    "\"\"\"\n",
    "final_fact = spark.sql(orig_dest_cleanupsql)\n",
    "final_fact.show(5)\n",
    "x=final_fact.count()\n",
    "xx=final_fact.na.drop()\n",
    "y=xx.count()\n",
    "print(x)\n",
    "print(y)"
   ]
  },
  {
   "cell_type": "code",
   "execution_count": 11,
   "metadata": {},
   "outputs": [],
   "source": [
    "#final_fact.coalesce(1).write\\\n",
    "#      .option(\"header\",\"true\")\\\n",
    "#      .option(\"sep\",\",\")\\\n",
    "#      .csv(\"FACT_FLIGHTS.csv\")\n"
   ]
  },
  {
   "cell_type": "code",
   "execution_count": 12,
   "metadata": {},
   "outputs": [
    {
     "name": "stdout",
     "output_type": "stream",
     "text": [
      "+-----------+--------------------+\n",
      "|airlinecode|         AIRLINENAME|\n",
      "+-----------+--------------------+\n",
      "|         B6|     JetBlue Airways|\n",
      "|         CO|Continental Air L...|\n",
      "|         EV|ExpressJet Airlin...|\n",
      "|         F9|Frontier Airlines...|\n",
      "|         DH|    Independence Air|\n",
      "+-----------+--------------------+\n",
      "only showing top 5 rows\n",
      "\n"
     ]
    }
   ],
   "source": [
    "final_fact.createOrReplaceTempView(\"final_fact\")\n",
    "dim_airline_sql = \"\"\"\n",
    "select distinct airlinecode , AIRLINENAME\n",
    "from final_fact\n",
    "\"\"\"\n",
    "\n",
    "dim_airline =spark.sql(dim_airline_sql)\n",
    "dim_airline.count()\n",
    "dim_airline.show(5)"
   ]
  },
  {
   "cell_type": "code",
   "execution_count": 13,
   "metadata": {},
   "outputs": [
    {
     "data": {
      "text/plain": [
       "365"
      ]
     },
     "execution_count": 13,
     "metadata": {},
     "output_type": "execute_result"
    }
   ],
   "source": [
    "dim_airportcode_sql1 = \"\"\"\n",
    "\n",
    "\n",
    "select distinct ORIGINAIRPORTCODE , ORIGAIRPORTNAME\n",
    "from final_fact\n",
    "\n",
    "\"\"\"\n",
    "\n",
    "dim_airportcode_sql2 = \"\"\"\n",
    "\n",
    "\n",
    "select distinct DESTAIRPORTCODE , DESTAIRPORTNAME\n",
    "from final_fact\n",
    "\n",
    "\"\"\"\n",
    "dim_airportcode1 = spark.sql(dim_airportcode_sql1)\n",
    "dim_airportcode1.createOrReplaceTempView(\"dim_airportcode1\")\n",
    "\n",
    "\n",
    "dim_airportcode2 = spark.sql(dim_airportcode_sql2)\n",
    "dim_airportcode2.createOrReplaceTempView(\"dim_airportcode2\")\n",
    "\n",
    "dim_airportcode_sql = \"\"\"\n",
    "select ORIGINAIRPORTCODE, ORIGAIRPORTNAME\n",
    "from \n",
    "dim_airportcode1 A \n",
    "FUll outer join \n",
    "dim_airportcode2 B \n",
    "ON A.ORIGINAIRPORTCODE = B.DESTAIRPORTCODE\n",
    "\"\"\"\n",
    "\n",
    "\n",
    "\n",
    "dim_airportcode =spark.sql(dim_airportcode_sql)\n",
    "\n",
    "\n",
    "dim_airportcode.count()\n",
    "#dim_airportcode.show(10)"
   ]
  },
  {
   "cell_type": "code",
   "execution_count": 14,
   "metadata": {},
   "outputs": [
    {
     "name": "stdout",
     "output_type": "stream",
     "text": [
      "+--------------------+---------+\n",
      "|            cityname|statecode|\n",
      "+--------------------+---------+\n",
      "|           Asheville|       NC|\n",
      "|   Dallas/Fort Worth|       TX|\n",
      "|              Monroe|       LA|\n",
      "|         Minneapolis|       MN|\n",
      "|Newport News/Will...|       VA|\n",
      "|            Lewiston|       ID|\n",
      "|     Bismarck/Mandan|       ND|\n",
      "|       Crescent City|       CA|\n",
      "|             Ontario|       CA|\n",
      "|               Butte|       MT|\n",
      "|          Burlington|       VT|\n",
      "|        Grand Island|       NE|\n",
      "|                Rota|       TT|\n",
      "|             Lansing|       MI|\n",
      "|    Charlotte Amalie|       VI|\n",
      "|Pasco/Kennewick/R...|       WA|\n",
      "|           St. Cloud|       MN|\n",
      "|               Flint|       MI|\n",
      "|              Bangor|       ME|\n",
      "|        Fayetteville|       AR|\n",
      "+--------------------+---------+\n",
      "only showing top 20 rows\n",
      "\n",
      "+---------+--------------------+\n",
      "|statecode|           STATENAME|\n",
      "+---------+--------------------+\n",
      "|       VI| U.S. Virgin Islands|\n",
      "|       MT|             Montana|\n",
      "|       NC|      North Carolina|\n",
      "|       MD|            Maryland|\n",
      "|       CO|            Colorado|\n",
      "|       CT|         Connecticut|\n",
      "|       WY|             Wyoming|\n",
      "|       IL|            Illinois|\n",
      "|       NJ|          New Jersey|\n",
      "|       DE|            Delaware|\n",
      "|       LA|           Louisiana|\n",
      "|       TN|           Tennessee|\n",
      "|       AR|            Arkansas|\n",
      "|       AK|              Alaska|\n",
      "|       CA|          California|\n",
      "|       NM|          New Mexico|\n",
      "|       UT|                Utah|\n",
      "|     null|                null|\n",
      "|       MI|            Michigan|\n",
      "|       TT|U.S. Pacific Trus...|\n",
      "+---------+--------------------+\n",
      "only showing top 20 rows\n",
      "\n"
     ]
    }
   ],
   "source": [
    "dim_city1 = \"\"\"\n",
    "select distinct ORIGINCITYNAME,ORIGINSTATE , ORIGINSTATENAME\n",
    "from \n",
    "final_fact\n",
    "\n",
    "\"\"\"\n",
    "\n",
    "dim_city1 =spark.sql(dim_city1)\n",
    "\n",
    "\n",
    "dim_city1.count()\n",
    "#dim_city1.show(10)\n",
    "dim_city1.createOrReplaceTempView(\"dim_city1\")\n",
    "\n",
    "\n",
    "dim_city2 = \"\"\"\n",
    "select distinct DESTCITYNAME,DESTSTATE, DESTSTATENAME\n",
    "from \n",
    "final_fact \"\"\"\n",
    "dim_city2 =spark.sql(dim_city2)\n",
    "\n",
    "\n",
    "#dim_city2.count()\n",
    "#dim_city2.show(10)\n",
    "dim_city2.createOrReplaceTempView(\"dim_city2\")\n",
    "\n",
    "dim_city = \"\"\"\n",
    "select ORIGINCITYNAME, ORIGINSTATE, ORIGINSTATENAME\n",
    "from \n",
    "dim_city1 A \n",
    "Full outer join \n",
    "dim_city2 B \n",
    "ON A.ORIGINSTATE = B.DESTSTATE\n",
    "\"\"\"\n",
    "\n",
    "\n",
    "\n",
    "dim_city3 =spark.sql(dim_city)\n",
    "\n",
    "\n",
    "dim_city3.count()\n",
    "#dim_city3.show(10)\n",
    "dim_city3.createOrReplaceTempView(\"dim_city3\")\n",
    "\n",
    "dim_city = \"\"\"\n",
    "select distinct ORIGINCITYNAME as cityname , ORIGINSTATE as statecode from dim_city3\n",
    "\n",
    "\"\"\"\n",
    "dim_city =spark.sql(dim_city)\n",
    "dim_city.show()\n",
    "\n",
    "\n",
    "dim_state = \"\"\"\n",
    "\n",
    "select distinct ORIGINSTATE as statecode  , ORIGINSTATENAME as STATENAME from dim_city3\n",
    "\"\"\"\n",
    "\n",
    "dim_state =spark.sql(dim_state)\n",
    "dim_state.show()"
   ]
  },
  {
   "cell_type": "code",
   "execution_count": 19,
   "metadata": {},
   "outputs": [
    {
     "name": "stdout",
     "output_type": "stream",
     "text": [
      "+-----------+--------------------+\n",
      "|AIRLINECODE|         AIRLINENAME|\n",
      "+-----------+--------------------+\n",
      "|         B6|     JetBlue Airways|\n",
      "|         CO|Continental Air L...|\n",
      "|         EV|ExpressJet Airlin...|\n",
      "+-----------+--------------------+\n",
      "only showing top 3 rows\n",
      "\n"
     ]
    }
   ],
   "source": [
    "dim_airline_sql = \"select distinct AIRLINECODE, AIRLINENAME from final_fact\"\n",
    "\n",
    "dim_airline = spark.sql(dim_airline_sql)\n",
    "dim_airline.show(3)\n",
    "\n",
    "dim_airline.coalesce(1).write\\\n",
    "      .option(\"header\",\"true\")\\\n",
    "      .option(\"sep\",\",\")\\\n",
    "      .csv(\"dim_airline5.csv\")"
   ]
  },
  {
   "cell_type": "code",
   "execution_count": 15,
   "metadata": {},
   "outputs": [],
   "source": [
    "fact_flights.coalesce(1).write\\\n",
    "      .option(\"header\",\"true\")\\\n",
    "      .option(\"sep\",\",\")\\\n",
    "      .csv(\"FACT_FLIGHTS5.csv\")\n",
    "\n",
    "dim_airportcode.coalesce(1).write\\\n",
    "      .option(\"header\",\"true\")\\\n",
    "      .option(\"sep\",\",\")\\\n",
    "      .csv(\"dim_airportcode5.csv\")\n",
    "\n",
    "dim_city.coalesce(1).write\\\n",
    "      .option(\"header\",\"true\")\\\n",
    "      .option(\"sep\",\",\")\\\n",
    "      .csv(\"dim_city5.csv\")\n",
    "dim_state.coalesce(1).write\\\n",
    "      .option(\"header\",\"true\")\\\n",
    "      .option(\"sep\",\",\")\\\n",
    "      .csv(\"dim_statea5.csv\")\n",
    "\n",
    "dim_airline.coalesce(1).write\\\n",
    "      .option(\"header\",\"true\")\\\n",
    "      .option(\"sep\",\",\")\\\n",
    "      .csv(\"dim_airline5.csv\")"
   ]
  },
  {
   "cell_type": "code",
   "execution_count": 16,
   "metadata": {},
   "outputs": [
    {
     "name": "stdout",
     "output_type": "stream",
     "text": [
      "root\n",
      " |-- TRANSACTIONID: string (nullable = true)\n",
      " |-- TAILNUM: string (nullable = true)\n",
      " |-- FLIGHTNUM: string (nullable = true)\n",
      " |-- ORIGINAIRPORTCODE: string (nullable = true)\n",
      " |-- ORIGINCITYNAME: string (nullable = true)\n",
      " |-- ORIGINSTATE: string (nullable = true)\n",
      " |-- ORIGINSTATENAME: string (nullable = true)\n",
      " |-- DESTAIRPORTCODE: string (nullable = true)\n",
      " |-- DESTCITYNAME: string (nullable = true)\n",
      " |-- DESTSTATE: string (nullable = true)\n",
      " |-- DESTSTATENAME: string (nullable = true)\n",
      " |-- CRSDEPTIME: string (nullable = true)\n",
      " |-- DEPDELAY: string (nullable = true)\n",
      " |-- TAXIOUT: string (nullable = true)\n",
      " |-- WHEELSOFF: string (nullable = true)\n",
      " |-- WHEELSON: string (nullable = true)\n",
      " |-- TAXIIN: string (nullable = true)\n",
      " |-- CRSARRTIME: string (nullable = true)\n",
      " |-- ARRDELAY: string (nullable = true)\n",
      " |-- CRSELAPSEDTIME: string (nullable = true)\n",
      " |-- ACTUALELAPSEDTIME: string (nullable = true)\n",
      " |-- CANCELLED: string (nullable = true)\n",
      " |-- DISTANCE: string (nullable = true)\n",
      " |-- distance_mod: string (nullable = true)\n",
      " |-- bin: long (nullable = true)\n",
      " |-- start_bin: long (nullable = true)\n",
      " |-- end_bin: long (nullable = true)\n",
      " |-- DISTANCEGROUP: string (nullable = true)\n",
      " |-- DEPDELAYGT15: integer (nullable = false)\n",
      " |-- FLIGHTDATE: date (nullable = true)\n",
      " |-- DEPTIME: string (nullable = true)\n",
      " |-- ARRTIME: string (nullable = true)\n",
      " |-- NEXTDAYARR: integer (nullable = true)\n",
      " |-- AIRLINECODE: string (nullable = true)\n",
      " |-- AIRLINENAME: string (nullable = true)\n",
      " |-- OrigCITYSTATE: string (nullable = true)\n",
      " |-- ORIGAIRPORTNAME: string (nullable = true)\n",
      " |-- destCITYSTATE: string (nullable = true)\n",
      " |-- DESTAIRPORTNAME: string (nullable = true)\n",
      " |-- Diverted: string (nullable = true)\n",
      "\n"
     ]
    }
   ],
   "source": [
    "final_fact.printSchema()"
   ]
  },
  {
   "cell_type": "markdown",
   "metadata": {},
   "source": [
    "dim_city.show(10)\n",
    "\n",
    "dim_city.coalesce(1).write\\\n",
    "      .option(\"header\",\"true\")\\\n",
    "      .option(\"sep\",\",\")\\\n",
    "      .csv(\"dim_city2.csv\")"
   ]
  },
  {
   "cell_type": "code",
   "execution_count": 17,
   "metadata": {},
   "outputs": [
    {
     "data": {
      "text/plain": [
       "0"
      ]
     },
     "execution_count": 17,
     "metadata": {},
     "output_type": "execute_result"
    }
   ],
   "source": [
    "sql = \"select NEXTDAYARR from final_fact where NEXTDAYARR not in (1 , 0) \"\n",
    "ss =spark.sql(sql)\n",
    "ss.count()"
   ]
  },
  {
   "cell_type": "code",
   "execution_count": null,
   "metadata": {},
   "outputs": [],
   "source": []
  }
 ],
 "metadata": {
  "kernelspec": {
   "display_name": "Python 3",
   "language": "python",
   "name": "python3"
  },
  "language_info": {
   "codemirror_mode": {
    "name": "ipython",
    "version": 3
   },
   "file_extension": ".py",
   "mimetype": "text/x-python",
   "name": "python",
   "nbconvert_exporter": "python",
   "pygments_lexer": "ipython3",
   "version": "3.7.6"
  }
 },
 "nbformat": 4,
 "nbformat_minor": 4
}
